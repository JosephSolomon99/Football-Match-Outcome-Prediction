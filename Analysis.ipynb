{
 "cells": [
  {
   "cell_type": "code",
   "execution_count": 16,
   "metadata": {},
   "outputs": [],
   "source": [
    "import pandas as pd\n",
    "import glob\n",
    "pd.set_option('display.max_rows', 500)"
   ]
  },
  {
   "cell_type": "code",
   "execution_count": 17,
   "metadata": {},
   "outputs": [],
   "source": [
    "path = r'/Users/Jay-H/Football_Analysis/Football_analysis/premier_league'\n",
    "all_files = glob.glob(path + \"/*.csv\")\n",
    "\n",
    "premier_league = []\n",
    "\n",
    "for filename in all_files:\n",
    "    df = pd.read_csv(filename, index_col=None)\n",
    "    premier_league.append(df)"
   ]
  },
  {
   "cell_type": "code",
   "execution_count": 18,
   "metadata": {},
   "outputs": [
    {
     "data": {
      "text/html": [
       "<div>\n",
       "<style scoped>\n",
       "    .dataframe tbody tr th:only-of-type {\n",
       "        vertical-align: middle;\n",
       "    }\n",
       "\n",
       "    .dataframe tbody tr th {\n",
       "        vertical-align: top;\n",
       "    }\n",
       "\n",
       "    .dataframe thead th {\n",
       "        text-align: right;\n",
       "    }\n",
       "</style>\n",
       "<table border=\"1\" class=\"dataframe\">\n",
       "  <thead>\n",
       "    <tr style=\"text-align: right;\">\n",
       "      <th></th>\n",
       "      <th>Home_Team</th>\n",
       "      <th>Away_Team</th>\n",
       "      <th>Result</th>\n",
       "      <th>Link</th>\n",
       "      <th>Season</th>\n",
       "      <th>Round</th>\n",
       "      <th>League</th>\n",
       "    </tr>\n",
       "  </thead>\n",
       "  <tbody>\n",
       "    <tr>\n",
       "      <th>0</th>\n",
       "      <td>Hull City</td>\n",
       "      <td>Leicester</td>\n",
       "      <td>2-1</td>\n",
       "      <td>https://www.besoccer.com/match/hull-city/leice...</td>\n",
       "      <td>2017</td>\n",
       "      <td>1</td>\n",
       "      <td>premier_league</td>\n",
       "    </tr>\n",
       "    <tr>\n",
       "      <th>1</th>\n",
       "      <td>Burnley</td>\n",
       "      <td>Swansea City</td>\n",
       "      <td>0-1</td>\n",
       "      <td>https://www.besoccer.com/match/burnley-fc/swan...</td>\n",
       "      <td>2017</td>\n",
       "      <td>1</td>\n",
       "      <td>premier_league</td>\n",
       "    </tr>\n",
       "    <tr>\n",
       "      <th>2</th>\n",
       "      <td>Crystal Palace</td>\n",
       "      <td>West Bromwich Albion</td>\n",
       "      <td>0-1</td>\n",
       "      <td>https://www.besoccer.com/match/crystal-palace-...</td>\n",
       "      <td>2017</td>\n",
       "      <td>1</td>\n",
       "      <td>premier_league</td>\n",
       "    </tr>\n",
       "    <tr>\n",
       "      <th>3</th>\n",
       "      <td>Everton</td>\n",
       "      <td>Tottenham Hotspur</td>\n",
       "      <td>1-1</td>\n",
       "      <td>https://www.besoccer.com/match/everton-fc/tott...</td>\n",
       "      <td>2017</td>\n",
       "      <td>1</td>\n",
       "      <td>premier_league</td>\n",
       "    </tr>\n",
       "    <tr>\n",
       "      <th>4</th>\n",
       "      <td>Middlesbrough</td>\n",
       "      <td>Stoke City</td>\n",
       "      <td>1-1</td>\n",
       "      <td>https://www.besoccer.com/match/middlesbrough-f...</td>\n",
       "      <td>2017</td>\n",
       "      <td>1</td>\n",
       "      <td>premier_league</td>\n",
       "    </tr>\n",
       "  </tbody>\n",
       "</table>\n",
       "</div>"
      ],
      "text/plain": [
       "        Home_Team             Away_Team Result  \\\n",
       "0       Hull City             Leicester    2-1   \n",
       "1         Burnley          Swansea City    0-1   \n",
       "2  Crystal Palace  West Bromwich Albion    0-1   \n",
       "3         Everton     Tottenham Hotspur    1-1   \n",
       "4   Middlesbrough            Stoke City    1-1   \n",
       "\n",
       "                                                Link  Season  Round  \\\n",
       "0  https://www.besoccer.com/match/hull-city/leice...    2017      1   \n",
       "1  https://www.besoccer.com/match/burnley-fc/swan...    2017      1   \n",
       "2  https://www.besoccer.com/match/crystal-palace-...    2017      1   \n",
       "3  https://www.besoccer.com/match/everton-fc/tott...    2017      1   \n",
       "4  https://www.besoccer.com/match/middlesbrough-f...    2017      1   \n",
       "\n",
       "           League  \n",
       "0  premier_league  \n",
       "1  premier_league  \n",
       "2  premier_league  \n",
       "3  premier_league  \n",
       "4  premier_league  "
      ]
     },
     "execution_count": 18,
     "metadata": {},
     "output_type": "execute_result"
    }
   ],
   "source": [
    "pl_2017 = premier_league[0]\n",
    "pl_2017.head()"
   ]
  },
  {
   "cell_type": "code",
   "execution_count": 22,
   "metadata": {},
   "outputs": [
    {
     "data": {
      "text/plain": [
       "380"
      ]
     },
     "execution_count": 22,
     "metadata": {},
     "output_type": "execute_result"
    }
   ],
   "source": [
    "len(pl_2017['Result'])"
   ]
  },
  {
   "cell_type": "code",
   "execution_count": 19,
   "metadata": {},
   "outputs": [
    {
     "data": {
      "text/plain": [
       "Hull City               19\n",
       "Burnley                 19\n",
       "West Ham                19\n",
       "Sunderland              19\n",
       "Leicester               19\n",
       "West Bromwich Albion    19\n",
       "Watford                 19\n",
       "Tottenham Hotspur       19\n",
       "Swansea City            19\n",
       "Stoke City              19\n",
       "Man. Utd                19\n",
       "Chelsea                 19\n",
       "Arsenal                 19\n",
       "AFC Bournemouth         19\n",
       "Man. City               19\n",
       "Southampton             19\n",
       "Middlesbrough           19\n",
       "Everton                 19\n",
       "Crystal Palace          19\n",
       "Liverpool               19\n",
       "Name: Home_Team, dtype: int64"
      ]
     },
     "execution_count": 19,
     "metadata": {},
     "output_type": "execute_result"
    }
   ],
   "source": [
    "pl_2017['Home_Team'].value_counts()"
   ]
  },
  {
   "cell_type": "code",
   "execution_count": 20,
   "metadata": {},
   "outputs": [
    {
     "data": {
      "text/plain": [
       "Leicester               19\n",
       "Swansea City            19\n",
       "AFC Bournemouth         19\n",
       "Middlesbrough           19\n",
       "Arsenal                 19\n",
       "Everton                 19\n",
       "Chelsea                 19\n",
       "Crystal Palace          19\n",
       "Hull City               19\n",
       "Man. City               19\n",
       "Southampton             19\n",
       "West Ham                19\n",
       "Liverpool               19\n",
       "Man. Utd                19\n",
       "Sunderland              19\n",
       "Watford                 19\n",
       "Stoke City              19\n",
       "Tottenham Hotspur       19\n",
       "West Bromwich Albion    19\n",
       "Burnley                 19\n",
       "Name: Away_Team, dtype: int64"
      ]
     },
     "execution_count": 20,
     "metadata": {},
     "output_type": "execute_result"
    }
   ],
   "source": [
    "pl_2017['Away_Team'].value_counts()"
   ]
  },
  {
   "cell_type": "code",
   "execution_count": null,
   "metadata": {},
   "outputs": [],
   "source": [
    "pl_2017"
   ]
  },
  {
   "cell_type": "code",
   "execution_count": null,
   "metadata": {},
   "outputs": [],
   "source": []
  },
  {
   "cell_type": "code",
   "execution_count": null,
   "metadata": {},
   "outputs": [],
   "source": [
    "frame = pd.concat(li, axis=0, ignore_index=True)"
   ]
  }
 ],
 "metadata": {
  "interpreter": {
   "hash": "397704579725e15f5c7cb49fe5f0341eb7531c82d19f2c29d197e8b64ab5776b"
  },
  "kernelspec": {
   "display_name": "Python 3.9.0 64-bit",
   "language": "python",
   "name": "python3"
  },
  "language_info": {
   "codemirror_mode": {
    "name": "ipython",
    "version": 3
   },
   "file_extension": ".py",
   "mimetype": "text/x-python",
   "name": "python",
   "nbconvert_exporter": "python",
   "pygments_lexer": "ipython3",
   "version": "3.9.0"
  },
  "orig_nbformat": 4
 },
 "nbformat": 4,
 "nbformat_minor": 2
}
